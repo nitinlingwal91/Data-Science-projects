{
 "cells": [
  {
   "cell_type": "code",
   "execution_count": 6,
   "metadata": {},
   "outputs": [],
   "source": [
    "from selenium import webdriver\n",
    "from selenium.webdriver.chrome.service import Service\n",
    "from selenium.webdriver.common.by import By\n",
    "from selenium.webdriver.support.ui import WebDriverWait\n",
    "from selenium.webdriver.support import expected_conditions as EC\n",
    "import csv\n",
    "import time"
   ]
  },
  {
   "cell_type": "code",
   "execution_count": 7,
   "metadata": {},
   "outputs": [
    {
     "name": "stdout",
     "output_type": "stream",
     "text": [
      "2024 MLB Team Pitching Stat Leaders | MLB.com\n"
     ]
    }
   ],
   "source": [
    "PATH = \"E:\\Web scrapping\\chromedriver.exe\"\n",
    "service = Service(PATH)\n",
    "driver = webdriver.Chrome(service=service)\n",
    "driver.get(\"https://www.mlb.com/stats/team/pitching?sortState=asc\")\n",
    "print(driver.title)"
   ]
  },
  {
   "cell_type": "code",
   "execution_count": 9,
   "metadata": {},
   "outputs": [
    {
     "name": "stdout",
     "output_type": "stream",
     "text": [
      "['TEAM', 'LEAGUE', 'W\\nWins\\nCredited to the pitcher whose team assumes a lead while such pitcher is in the game and does not relinquish such lead unless otherwise assigned by the official scorer.', 'L', 'ERA', 'G', 'GS', 'CG', 'SHO', 'SV', 'SVO', 'IP', 'H', 'R', 'ER', 'HR', 'HB', 'BB', 'SO', 'WHIP', 'AVG']\n",
      "['1\\nAtlanta Braves', 'NL', '89', '73', '3.49', '162', '162', '2', '17', '40', '62', '1443.1', '1277', '607', '559', '150', '68', '449', '1553', '1.20', '.236']\n",
      "['2\\nSeattle Mariners', 'AL', '85', '77', '3.49', '162', '162', '1', '15', '34', '56', '1433.0', '1174', '607', '556', '183', '52', '369', '1416', '1.08', '.220']\n",
      "['3\\nCleveland Guardians', 'AL', '92', '69', '3.61', '161', '161', '0', '12', '53', '69', '1428.0', '1224', '621', '572', '179', '60', '492', '1410', '1.20', '.230']\n",
      "['4\\nDetroit Tigers', 'AL', '86', '76', '3.61', '162', '162', '1', '10', '45', '71', '1447.0', '1265', '642', '581', '159', '57', '416', '1354', '1.16', '.233']\n",
      "['5\\nMilwaukee Brewers', 'NL', '93', '69', '3.65', '162', '162', '0', '14', '53', '72', '1446.0', '1289', '641', '586', '196', '64', '494', '1373', '1.23', '.237']\n",
      "['6\\nHouston Astros', 'AL', '88', '73', '3.74', '161', '161', '2', '11', '43', '69', '1432.0', '1238', '649', '595', '183', '61', '544', '1479', '1.24', '.231']\n",
      "['7\\nNew York Yankees', 'AL', '94', '68', '3.74', '162', '162', '0', '14', '45', '66', '1452.2', '1272', '668', '604', '181', '88', '533', '1457', '1.24', '.233']\n",
      "['8\\nKansas City Royals', 'AL', '86', '76', '3.76', '162', '162', '2', '11', '41', '64', '1428.0', '1303', '644', '596', '146', '70', '472', '1339', '1.24', '.241']\n",
      "['9\\nTampa Bay Rays', 'AL', '80', '82', '3.77', '162', '162', '0', '12', '51', '73', '1440.2', '1286', '663', '604', '196', '65', '445', '1406', '1.20', '.236']\n",
      "['10\\nChicago Cubs', 'NL', '83', '79', '3.78', '162', '162', '1', '11', '38', '64', '1432.1', '1302', '669', '602', '181', '48', '485', '1348', '1.25', '.239']\n",
      "['11\\nPhiladelphia Phillies', 'NL', '95', '67', '3.85', '162', '162', '5', '14', '37', '56', '1442.2', '1339', '671', '617', '181', '60', '444', '1433', '1.24', '.243']\n",
      "['12\\nSan Diego Padres', 'NL', '93', '69', '3.86', '162', '162', '1', '16', '44', '67', '1439.1', '1296', '669', '617', '169', '67', '462', '1453', '1.22', '.238']\n",
      "['13\\nLos Angeles Dodgers', 'NL', '98', '64', '3.90', '162', '162', '1', '13', '50', '79', '1445.2', '1273', '686', '626', '198', '55', '501', '1390', '1.23', '.235']\n",
      "['14\\nBaltimore Orioles', 'AL', '91', '71', '3.94', '162', '162', '0', '9', '46', '67', '1442.0', '1303', '699', '632', '175', '53', '481', '1380', '1.24', '.238']\n",
      "['15\\nNew York Mets', 'NL', '89', '73', '3.96', '162', '162', '1', '9', '39', '64', '1442.1', '1232', '697', '634', '165', '94', '586', '1455', '1.26', '.230']\n",
      "['16\\nSt. Louis Cardinals', 'NL', '83', '79', '4.04', '162', '162', '0', '9', '55', '83', '1444.0', '1363', '719', '648', '174', '42', '454', '1308', '1.26', '.249']\n",
      "['17\\nBoston Red Sox', 'AL', '81', '81', '4.04', '162', '162', '1', '13', '40', '71', '1452.2', '1363', '747', '652', '189', '76', '461', '1353', '1.26', '.246']\n",
      "['18\\nCincinnati Reds', 'NL', '77', '85', '4.09', '162', '162', '1', '8', '36', '51', '1428.0', '1302', '694', '649', '196', '93', '487', '1370', '1.25', '.239']\n",
      "['19\\nSan Francisco Giants', 'NL', '80', '82', '4.10', '162', '162', '2', '12', '36', '55', '1433.2', '1339', '699', '653', '153', '70', '526', '1436', '1.30', '.246']\n",
      "['20\\nPittsburgh Pirates', 'NL', '76', '86', '4.15', '162', '162', '1', '12', '43', '72', '1438.2', '1369', '739', '664', '166', '85', '515', '1356', '1.31', '.250']\n",
      "['21\\nMinnesota Twins', 'AL', '82', '80', '4.26', '162', '162', '1', '8', '43', '62', '1440.1', '1333', '735', '682', '190', '69', '433', '1500', '1.23', '.242']\n",
      "['22\\nToronto Blue Jays', 'AL', '74', '88', '4.29', '162', '162', '3', '9', '36', '59', '1427.1', '1316', '743', '681', '208', '71', '503', '1314', '1.27', '.243']\n",
      "['23\\nWashington Nationals', 'NL', '71', '91', '4.30', '162', '162', '0', '6', '40', '63', '1434.0', '1429', '764', '685', '168', '43', '473', '1314', '1.33', '.258']\n",
      "['24\\nTexas Rangers', 'AL', '78', '84', '4.35', '162', '162', '0', '12', '38', '57', '1427.2', '1323', '738', '690', '198', '74', '530', '1371', '1.30', '.243']\n",
      "['25\\nOakland Athletics', 'AL', '69', '93', '4.37', '162', '162', '1', '12', '35', '57', '1436.2', '1385', '764', '698', '169', '92', '530', '1263', '1.33', '.253']\n",
      "['26\\nLos Angeles Angels', 'AL', '63', '99', '4.56', '162', '162', '0', '7', '35', '53', '1431.0', '1328', '797', '725', '202', '81', '601', '1252', '1.35', '.246']\n",
      "['27\\nArizona Diamondbacks', 'NL', '89', '73', '4.62', '162', '162', '0', '10', '38', '64', '1443.1', '1468', '788', '741', '181', '54', '481', '1313', '1.35', '.262']\n",
      "['28\\nChicago White Sox', 'AL', '41', '121', '4.67', '162', '162', '0', '7', '21', '58', '1420.0', '1397', '813', '737', '201', '54', '643', '1366', '1.44', '.255']\n",
      "['29\\nMiami Marlins', 'NL', '62', '100', '4.73', '162', '162', '1', '7', '33', '60', '1437.1', '1431', '841', '755', '195', '88', '556', '1317', '1.38', '.257']\n",
      "['30\\nColorado Rockies', 'NL', '61', '101', '5.47', '162', '162', '0', '1', '37', '65', '1426.2', '1604', '929', '867', '221', '66', '563', '1118', '1.52', '.285']\n"
     ]
    }
   ],
   "source": [
    "def extract_table_data(driver):\n",
    "    all_player_stats = []\n",
    "    try:\n",
    "        table = driver.find_element(By.CLASS_NAME, \"table-wrapper-mxbeN3qL\")\n",
    "        rows = table.find_elements(By.TAG_NAME, \"tr\")\n",
    "        for row in rows:\n",
    "            headers = row.find_elements(By.TAG_NAME, \"th\")\n",
    "            stats = [header.text for header in headers]\n",
    "\n",
    "            cells = row.find_elements(By.TAG_NAME, \"td\")\n",
    "            stats.extend(cell.text for cell in cells)\n",
    "\n",
    "            if stats:\n",
    "                all_player_stats.append(stats)\n",
    "                \n",
    "    except Exception as e:\n",
    "        print(f\"Error extracting table data: {e}\")\n",
    "    \n",
    "    return all_player_stats\n",
    "\n",
    "all_stats = []\n",
    "\n",
    "# Loop through each page\n",
    "for page in range(1, 2):\n",
    "    try:     \n",
    "        page_url = f\"https://www.mlb.com/stats/team/pitching/?page={page}\"\n",
    "        driver.get(page_url)\n",
    "        time.sleep(5)\n",
    "\n",
    "        # Extract data from the current page\n",
    "        page_stats = extract_table_data(driver)\n",
    "        all_stats.extend(page_stats)\n",
    "\n",
    "    except Exception as e:\n",
    "        print(f\"Error extracting data from page {page}: {e}\")\n",
    "\n",
    "# Print all collected stats\n",
    "for stats in all_stats:\n",
    "    print(stats)"
   ]
  },
  {
   "cell_type": "code",
   "execution_count": 10,
   "metadata": {},
   "outputs": [
    {
     "name": "stdout",
     "output_type": "stream",
     "text": [
      "Data successfully saved to data/mlb_team_stats_pitching_2024.csv\n"
     ]
    }
   ],
   "source": [
    "output_file = \"data/mlb_team_stats_pitching_2024.csv\"\n",
    "\n",
    "with open(output_file, mode=\"w\", newline=\"\", encoding='utf-8') as file:\n",
    "    writer = csv.writer(file)\n",
    "    writer.writerow([])\n",
    "    writer.writerows(all_stats)\n",
    "print(f\"Data successfully saved to {output_file}\")"
   ]
  },
  {
   "cell_type": "code",
   "execution_count": null,
   "metadata": {},
   "outputs": [],
   "source": [
    "driver.quit()"
   ]
  }
 ],
 "metadata": {
  "kernelspec": {
   "display_name": "Python 3",
   "language": "python",
   "name": "python3"
  },
  "language_info": {
   "codemirror_mode": {
    "name": "ipython",
    "version": 3
   },
   "file_extension": ".py",
   "mimetype": "text/x-python",
   "name": "python",
   "nbconvert_exporter": "python",
   "pygments_lexer": "ipython3",
   "version": "3.11.11"
  }
 },
 "nbformat": 4,
 "nbformat_minor": 2
}
